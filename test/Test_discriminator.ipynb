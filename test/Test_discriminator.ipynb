{
 "cells": [
  {
   "cell_type": "code",
   "execution_count": 1,
   "metadata": {},
   "outputs": [],
   "source": [
    "import torch\n",
    "import sys\n",
    "sys.path.append('..')\n",
    "from torchinfo import summary\n",
    "import unittest\n",
    "from network.discriminator import Discriminator"
   ]
  },
  {
   "cell_type": "code",
   "execution_count": 2,
   "metadata": {},
   "outputs": [
    {
     "name": "stdout",
     "output_type": "stream",
     "text": [
      "Device: cpu\n",
      "trainable params in model:  645378\n",
      "total params in model:  17560093\n"
     ]
    }
   ],
   "source": [
    "CKPT_PATH = '/psi/home/li_s1/data/Season/pretrained/best_deeplabv3plus_mobilenet_cityscapes_os16.pth'\n",
    "network = Discriminator(CKPT_PATH)\n",
    "#print(network)\n",
    "pytorch_train_total_params = sum(p.numel() for p in network.parameters() if p.requires_grad)\n",
    "pytorch_total_params = sum(p.numel() for p in network.parameters())\n",
    "print(\"trainable params in model: \", pytorch_train_total_params)\n",
    "print(\"total params in model: \", pytorch_total_params)"
   ]
  },
  {
   "cell_type": "code",
   "execution_count": 3,
   "metadata": {},
   "outputs": [
    {
     "data": {
      "text/plain": [
       "==============================================================================================================\n",
       "Layer (type:depth-idx)                                       Output Shape              Param #\n",
       "==============================================================================================================\n",
       "Discriminator                                                --                        --\n",
       "├─ModuleList: 1-1                                            --                        --\n",
       "├─DataParallel: 1-2                                          [1, 19, 224, 400]         --\n",
       "│    └─DeepLabV3: 2-1                                        [1, 19, 224, 400]         --\n",
       "│    │    └─IntermediateLayerGetter: 3-1                     [1, 320, 14, 25]          (1,811,712)\n",
       "│    │    └─DeepLabHeadV3Plus: 3-2                           [1, 19, 56, 100]          (3,413,491)\n",
       "├─ResNet: 1-3                                                [1, 1000]                 --\n",
       "│    └─Conv2d: 2-2                                           [1, 64, 112, 200]         (9,408)\n",
       "│    └─BatchNorm2d: 2-3                                      [1, 64, 112, 200]         (128)\n",
       "│    └─ReLU: 2-4                                             [1, 64, 112, 200]         --\n",
       "│    └─MaxPool2d: 2-5                                        [1, 64, 56, 100]          --\n",
       "│    └─Sequential: 2-6                                       [1, 64, 56, 100]          --\n",
       "│    │    └─BasicBlock: 3-3                                  [1, 64, 56, 100]          (73,984)\n",
       "│    │    └─BasicBlock: 3-4                                  [1, 64, 56, 100]          (73,984)\n",
       "│    └─Sequential: 2-7                                       [1, 128, 28, 50]          --\n",
       "│    │    └─BasicBlock: 3-5                                  [1, 128, 28, 50]          (230,144)\n",
       "│    │    └─BasicBlock: 3-6                                  [1, 128, 28, 50]          (295,424)\n",
       "│    └─Sequential: 2-8                                       [1, 256, 14, 25]          --\n",
       "│    │    └─BasicBlock: 3-7                                  [1, 256, 14, 25]          (919,040)\n",
       "│    │    └─BasicBlock: 3-8                                  [1, 256, 14, 25]          (1,180,672)\n",
       "│    └─Sequential: 2-9                                       [1, 512, 7, 13]           --\n",
       "│    │    └─BasicBlock: 3-9                                  [1, 512, 7, 13]           (3,673,088)\n",
       "│    │    └─BasicBlock: 3-10                                 [1, 512, 7, 13]           (4,720,640)\n",
       "│    └─AdaptiveAvgPool2d: 2-10                               [1, 512, 1, 1]            --\n",
       "│    └─Linear: 2-11                                          [1, 1000]                 (513,000)\n",
       "├─ModuleList: 1-1                                            --                        --\n",
       "│    └─ParametrizedLinear: 2-12                              [1, 512]                  --\n",
       "│    └─LeakyReLU: 2-13                                       [1, 512]                  --\n",
       "│    └─BatchNorm1d: 2-14                                     [1, 512]                  1,024\n",
       "│    └─ParametrizedLinear: 2-15                              [1, 256]                  --\n",
       "│    └─LeakyReLU: 2-16                                       [1, 256]                  --\n",
       "│    └─ParametrizedLinear: 2-17                              [1, 2]                    --\n",
       "│    └─Softmax: 2-18                                         [1, 2]                    --\n",
       "==============================================================================================================\n",
       "Total params: 16,915,739\n",
       "Trainable params: 1,024\n",
       "Non-trainable params: 16,914,715\n",
       "Total mult-adds (G): 9.06\n",
       "==============================================================================================================\n",
       "Input size (MB): 1.08\n",
       "Forward/backward pass size (MB): 340.58\n",
       "Params size (MB): 67.66\n",
       "Estimated Total Size (MB): 409.32\n",
       "=============================================================================================================="
      ]
     },
     "execution_count": 3,
     "metadata": {},
     "output_type": "execute_result"
    }
   ],
   "source": [
    "summary(network, (1, 3,224, 400))"
   ]
  },
  {
   "cell_type": "code",
   "execution_count": 5,
   "metadata": {},
   "outputs": [
    {
     "name": "stdout",
     "output_type": "stream",
     "text": [
      "Device: cpu\n",
      "torch.Size([2, 19, 224, 400]) torch.Size([2, 2])\n"
     ]
    }
   ],
   "source": [
    "network = Discriminator(CKPT_PATH)\n",
    "map0, out = network(torch.zeros(2, 3, 224, 400))\n",
    "print(map0.shape, out.shape)"
   ]
  }
 ],
 "metadata": {
  "kernelspec": {
   "display_name": "Python [conda env:season-env]",
   "language": "python",
   "name": "conda-env-season-env-py"
  },
  "language_info": {
   "codemirror_mode": {
    "name": "ipython",
    "version": 3
   },
   "file_extension": ".py",
   "mimetype": "text/x-python",
   "name": "python",
   "nbconvert_exporter": "python",
   "pygments_lexer": "ipython3",
   "version": "3.7.11"
  }
 },
 "nbformat": 4,
 "nbformat_minor": 2
}
